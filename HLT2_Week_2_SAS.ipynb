{
 "cells": [
  {
   "cell_type": "markdown",
   "metadata": {},
   "source": [
    "Task 2\n",
    "As an extension to the motorbike task that costs £2000 and loses 10% of its value every year. Set up a function that performs the calculation by passing in parameters. Then using a loop, print the value of the bike every following year until it falls below £1000.\n",
    "\n",
    "Solution\n",
    "1. Outside of the function, Store the value of the bike against a variable\n",
    "2. Define your function and state which parameters you want to pass in\n",
    "3. Set up a return\n",
    "4. Create a while loop which subtracts 10% of the bikes value untill the value reaches £1000\n",
    "5. Call your function and pass in your parameters"
   ]
  },
  {
   "cell_type": "markdown",
   "metadata": {},
   "source": [
    "Task 3\n",
    "Write a program which will ask for two numbers from a user. Then offer an option menu to the user giving them a choice of maths operators. Once the user has selected which operator they wish to use, perform the calculation by using a procedure and passing parameters. \n",
    "\n",
    "Solution\n",
    "\n",
    "\n",
    "1. Ask the user to pick a number\n",
    "2. Ask the user to pick a second number\n",
    "3. Ask the user to pick an operator\n",
    "4. Define your procedure and state your parameters\n",
    "5. Create an IF statement to carry out the math operation using the users choice of numbers and choice of operator\n",
    "6. Call your procedure and pass in the parameters you want to use"
   ]
  },
  {
   "cell_type": "markdown",
   "metadata": {},
   "source": [
    "Still stuck after using the above tips? See the below examples.\n",
    "\n",
    "In the folling examples for the HLT, in the <> insert the correct code to solve the solutions."
   ]
  },
  {
   "cell_type": "markdown",
   "metadata": {},
   "source": [
    "Task 2\n",
    "As an extension to the motorbike task that costs £2000 and loses 10% of its value every year. Set up a function that performs the calculation by passing in parameters. Then using a loop, print the value of the bike every following year until it falls below £1000."
   ]
  },
  {
   "cell_type": "code",
   "execution_count": 4,
   "metadata": {},
   "outputs": [],
   "source": [
    "\n",
    "\n",
    "def function_name(price, year):\n",
    "    \n",
    "    return price, year\n",
    "\n"
   ]
  },
  {
   "cell_type": "code",
   "execution_count": 5,
   "metadata": {},
   "outputs": [],
   "source": [
    "bike_price = 25000\n",
    "year      = 2021"
   ]
  },
  {
   "cell_type": "code",
   "execution_count": 6,
   "metadata": {},
   "outputs": [
    {
     "name": "stdout",
     "output_type": "stream",
     "text": [
      "The bike is worth: 25000\n",
      "The bike is worth: 22500.0\n",
      "The bike is worth: 20250.0\n",
      "The bike is worth: 18225.0\n",
      "The bike is worth: 16402.5\n",
      "The bike is worth: 14762.25\n",
      "The bike is worth: 13286.025\n",
      "The bike is worth: 11957.4225\n",
      "The bike is worth: 10761.680250000001\n",
      "The bike is worth: 9685.512225000002\n",
      "The bike is worth: 8716.961002500002\n",
      "The bike is worth: 7845.264902250002\n",
      "The bike is worth: 7060.738412025002\n",
      "The bike is worth: 6354.664570822501\n",
      "The bike is worth: 5719.198113740252\n",
      "The bike is worth: 5147.278302366227\n",
      "The bike is worth: 4632.550472129605\n",
      "The bike is worth: 4169.295424916644\n",
      "The bike is worth: 3752.3658824249796\n",
      "The bike is worth: 3377.1292941824818\n",
      "The bike is worth: 3039.4163647642335\n",
      "The bike is worth: 2735.47472828781\n",
      "The bike is worth: 2461.9272554590293\n",
      "The bike is worth: 2215.7345299131266\n",
      "The bike is worth: 1994.161076921814\n",
      "The bike is worth: 1794.7449692296325\n",
      "The bike is worth: 1615.2704723066693\n",
      "The bike is worth: 1453.7434250760023\n",
      "The bike is worth: 1308.369082568402\n",
      "The bike is worth: 1177.532174311562\n",
      "The bike is worth: 1059.7789568804058\n"
     ]
    }
   ],
   "source": [
    "while bike_price >1000 :\n",
    "        print(\"The bike is worth:\", bike_price)\n",
    "        bike_price *=0.90"
   ]
  },
  {
   "cell_type": "code",
   "execution_count": 7,
   "metadata": {},
   "outputs": [
    {
     "data": {
      "text/plain": [
       "(953.8010611923652, 2021)"
      ]
     },
     "execution_count": 7,
     "metadata": {},
     "output_type": "execute_result"
    }
   ],
   "source": [
    "function_name(bike_price, year)"
   ]
  },
  {
   "cell_type": "markdown",
   "metadata": {},
   "source": [
    "Task 3\n",
    "Write a program which will ask for two numbers from a user. Then offer an option menu to the user giving them a choice of maths operators. Once the user has selected which operator they wish to use, perform the calculation by using a procedure and passing parameters."
   ]
  },
  {
   "cell_type": "code",
   "execution_count": null,
   "metadata": {},
   "outputs": [],
   "source": [
    "\n",
    "<ask the user to pick a number>\n",
    "<ask the user to pick a second number number>\n",
    "<ask the user to pick a operator> \n",
    "\n",
    "def procedure_name(<state parameters>):\n",
    "    if sign == <operator choice>:\n",
    "        print( <number 1> + <number 2>)\n",
    "    elif sign == <operator choice>:\n",
    "        print(<number 1> - <number 2>)\n",
    "    elif sign == <operator choice>:\n",
    "        print(<number 1> / <number 2>)\n",
    "    elif sign == <operator choice>:\n",
    "        print(<number 1> * <number 2>)\n",
    "    elif sign == <operator choice>:\n",
    "        print(<number 1> ** <number 2>)\n",
    "    elif sign == <operator choice>:\n",
    "        print(<number 1> % <number 2>)\n",
    "    elif sign == <operator choice>:\n",
    "        print(<number 1> // <number 2>)\n",
    "    else:\n",
    "        print(\"An appropriate operator was not selected!\")\n",
    "\n",
    "procedure_name(<pass in parameters>)"
   ]
  },
  {
   "cell_type": "code",
   "execution_count": 10,
   "metadata": {},
   "outputs": [
    {
     "name": "stdout",
     "output_type": "stream",
     "text": [
      "5\n"
     ]
    }
   ],
   "source": [
    "number_1=int(input(\"select a number\"))\n",
    "number_2=int(input(\"select another number\"))\n",
    "put_variable_sign=input(\"select an operator\") \n",
    "\n",
    "def procedure_name (number1,number2):\n",
    "    if put_variable_sign == \"+\":\n",
    "        print( number_1 + number_2)\n",
    "    elif put_variable_sign == \"-\":\n",
    "        print(number_1 - number_2)\n",
    "    elif put_variable_sign == \"/\":\n",
    "        print(number_1 / number_2)\n",
    "    elif put_variable_sign == \"*\":\n",
    "        print(number_1 * number_2)\n",
    "    elif put_variable_sign == \"**\":\n",
    "        print(number_1 ** number_2)\n",
    "    elif put_variable_sign == \"%\":\n",
    "        print(number_1 % number_2)\n",
    "    elif put_variable_sign == \"//\":\n",
    "        print(number_1 // number_2)\n",
    "    else:\n",
    "        print(\"An appropriate operator was not selected!\")\n",
    "\n",
    "procedure_name(number_1,number_2)"
   ]
  }
 ],
 "metadata": {
  "interpreter": {
   "hash": "d5272dab7d11a883ca6142bec3c6be150d8c739a0f4016b9729c00c2c7fec554"
  },
  "kernelspec": {
   "display_name": "Python 3.10.0 64-bit",
   "name": "python3"
  },
  "language_info": {
   "codemirror_mode": {
    "name": "ipython",
    "version": 3
   },
   "file_extension": ".py",
   "mimetype": "text/x-python",
   "name": "python",
   "nbconvert_exporter": "python",
   "pygments_lexer": "ipython3",
   "version": "3.10.0"
  },
  "orig_nbformat": 4
 },
 "nbformat": 4,
 "nbformat_minor": 2
}
